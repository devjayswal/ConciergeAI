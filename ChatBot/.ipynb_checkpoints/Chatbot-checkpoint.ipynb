{
 "cells": [
  {
   "cell_type": "code",
   "execution_count": 25,
   "id": "4f16423b-b899-48d2-824b-c4f26b3b9a4c",
   "metadata": {},
   "outputs": [],
   "source": [
    "import sys\n",
    "\n",
    "if \"google.colab\" in sys.modules:\n",
    "    from google.colab import auth\n",
    "\n",
    "    auth.authenticate_user()"
   ]
  },
  {
   "cell_type": "code",
   "execution_count": 27,
   "id": "99530501-2780-4307-a0ef-01e4ba859365",
   "metadata": {},
   "outputs": [],
   "source": [
    "PROJECT_ID = \"dulcet-equinox-428417-j7\"  # @param {type:\"string\"}\n",
    "LOCATION = \"us-central1\"  # @param {type:\"string\"}\n",
    "\n",
    "import vertexai\n",
    "\n",
    "vertexai.init(project=PROJECT_ID, location=LOCATION)"
   ]
  },
  {
   "cell_type": "code",
   "execution_count": 29,
   "id": "b3c5e78e-bf9f-4810-b26d-e3577f6b3412",
   "metadata": {},
   "outputs": [],
   "source": [
    "import requests\n",
    "from vertexai.generative_models import (\n",
    "    Content,\n",
    "    FunctionDeclaration,\n",
    "    GenerationConfig,\n",
    "    GenerativeModel,\n",
    "    Part,\n",
    "    Tool,\n",
    ")"
   ]
  },
  {
   "cell_type": "code",
   "execution_count": null,
   "id": "b78a27b6-d120-4612-ad1a-39ef24a77639",
   "metadata": {},
   "outputs": [],
   "source": []
  },
  {
   "cell_type": "code",
   "execution_count": null,
   "id": "81b88ccb-243b-41fd-a341-738e83ebd1b7",
   "metadata": {},
   "outputs": [],
   "source": []
  },
  {
   "cell_type": "code",
   "execution_count": 33,
   "id": "e2d76052-2eb6-4663-bc42-6879ee2de01b",
   "metadata": {},
   "outputs": [],
   "source": [
    "model = GenerativeModel(\n",
    "    \"gemini-1.5-pro-001\",\n",
    "    generation_config=GenerationConfig(temperature=0),\n",
    ")\n",
    "chat = model.start_chat()"
   ]
  },
  {
   "cell_type": "code",
   "execution_count": 35,
   "id": "be433b27-09dd-4b5d-8154-83f4643176c4",
   "metadata": {},
   "outputs": [
    {
     "data": {
      "text/plain": [
       "text: \"I do not have access to real-time information, including inventory levels of physical products.  To find out if the Pixel 8 Pro is in stock, you should check with:\\n\\n* **The Google Store:**  This is the official source for Google products.\\n* **Major retailers:**  Stores like Best Buy, Amazon, and carrier stores often carry Google Pixel phones.\\n* **Your mobile carrier:**  Check your carrier\\'s website or visit a store to see if they have the Pixel 8 Pro in stock. \\n\\nI hope this helps! \\n\""
      ]
     },
     "execution_count": 35,
     "metadata": {},
     "output_type": "execute_result"
    }
   ],
   "source": [
    "prompt = \"\"\"\n",
    "Do you have the Pixel 8 Pro in stock?\n",
    "\"\"\"\n",
    "\n",
    "response = chat.send_message(prompt)\n",
    "response.candidates[0].content.parts[0]"
   ]
  },
  {
   "cell_type": "code",
   "execution_count": null,
   "id": "1bce8bad-6679-4748-914b-bee8e5af5d2e",
   "metadata": {},
   "outputs": [
    {
     "name": "stdout",
     "output_type": "stream",
     "text": [
      " * Serving Flask app '__main__'\n",
      " * Debug mode: off\n"
     ]
    },
    {
     "name": "stderr",
     "output_type": "stream",
     "text": [
      "WARNING: This is a development server. Do not use it in a production deployment. Use a production WSGI server instead.\n",
      " * Running on all addresses (0.0.0.0)\n",
      " * Running on http://127.0.0.1:5000\n",
      " * Running on http://192.168.151.86:5000\n",
      "Press CTRL+C to quit\n"
     ]
    },
    {
     "name": "stdout",
     "output_type": "stream",
     "text": [
      "Received data: {'prompt': 'hi'}\n",
      "Extracted prompt: hi\n"
     ]
    },
    {
     "name": "stderr",
     "output_type": "stream",
     "text": [
      "127.0.0.1 - - [05/Jul/2024 02:34:53] \"POST /chat HTTP/1.1\" 500 -\n"
     ]
    },
    {
     "name": "stdout",
     "output_type": "stream",
     "text": [
      "Error: argument of type 'Part' is not iterable\n"
     ]
    }
   ],
   "source": [
    "from flask import Flask, request, jsonify\n",
    "\n",
    "app = Flask(__name__)\n",
    "\n",
    "\n",
    "chat = model.start_chat()\n",
    "\n",
    "@app.route('/chat', methods=['POST'])\n",
    "def chat_endpoint():\n",
    "    data = request.json\n",
    "    prompt = data.get('prompt')\n",
    "    \n",
    "    # Logging incoming data and prompt\n",
    "    print(\"Received data:\", data)\n",
    "    print(\"Extracted prompt:\", prompt)\n",
    "\n",
    "    if not prompt:\n",
    "        return jsonify({'error': 'No prompt provided'}), 400\n",
    "\n",
    "    try:\n",
    "        response = chat.send_message(prompt)\n",
    "        reply = response.candidates[0].content.parts[0]  # Adjust according to your response structure\n",
    "        print(\"Chatbot response:\", reply)\n",
    "        return jsonify({'response': reply}), 200\n",
    "    except Exception as e:\n",
    "        print(f\"Error: {str(e)}\")  # Detailed logging of the exception\n",
    "        return jsonify({'error': str(e)}), 500\n",
    "\n",
    "if __name__ == '__main__':\n",
    "    app.run(host='0.0.0.0', port=5000)\n"
   ]
  },
  {
   "cell_type": "code",
   "execution_count": null,
   "id": "627763de-f9b3-4d26-9316-a2a280264d5b",
   "metadata": {},
   "outputs": [],
   "source": []
  }
 ],
 "metadata": {
  "kernelspec": {
   "display_name": "Python 3 (ipykernel)",
   "language": "python",
   "name": "python3"
  },
  "language_info": {
   "codemirror_mode": {
    "name": "ipython",
    "version": 3
   },
   "file_extension": ".py",
   "mimetype": "text/x-python",
   "name": "python",
   "nbconvert_exporter": "python",
   "pygments_lexer": "ipython3",
   "version": "3.11.5"
  }
 },
 "nbformat": 4,
 "nbformat_minor": 5
}
